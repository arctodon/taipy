{
  "nbformat": 4,
  "nbformat_minor": 0,
  "metadata": {
    "colab": {
      "provenance": [],
      "authorship_tag": "ABX9TyOaO9ih0Z/SWjGVAT7Mfa/c",
      "include_colab_link": true
    },
    "kernelspec": {
      "name": "python3",
      "display_name": "Python 3"
    },
    "language_info": {
      "name": "python"
    }
  },
  "cells": [
    {
      "cell_type": "markdown",
      "metadata": {
        "id": "view-in-github",
        "colab_type": "text"
      },
      "source": [
        "<a href=\"https://colab.research.google.com/github/arctodon/taipy/blob/bump-version-release/NGC_API_NIM01.ipynb\" target=\"_parent\"><img src=\"https://colab.research.google.com/assets/colab-badge.svg\" alt=\"Open In Colab\"/></a>"
      ]
    },
    {
      "cell_type": "code",
      "execution_count": 1,
      "metadata": {
        "colab": {
          "base_uri": "https://localhost:8080/"
        },
        "id": "HkLoQDzU29mU",
        "outputId": "d15137f3-1e10-46ee-9f14-3458509a969a"
      },
      "outputs": [
        {
          "output_type": "stream",
          "name": "stdout",
          "text": [
            "Process is interrupted.\n"
          ]
        }
      ],
      "source": [
        "%%bash\n",
        "\n",
        "# Install Docker CLI\n",
        "echo \"Installing Docker CLI...\"\n",
        "sudo apt-get update\n",
        "sudo apt-get install -y \\\n",
        "    apt-transport-https \\\n",
        "    ca-certificates \\\n",
        "    curl \\\n",
        "    gnupg \\\n",
        "    lsb-release\n",
        "curl -fsSL https://download.docker.com/linux/ubuntu/gpg | sudo gpg --dearmor -o /usr/share/keyrings/docker-archive-keyring.gpg\n",
        "echo \\\n",
        "  \"deb [arch=$(dpkg --print-architecture) signed-by=/usr/share/keyrings/docker-archive-keyring.gpg] https://download.docker.com/linux/ubuntu \\\n",
        "  $(lsb_release -cs) stable\" | sudo tee /etc/apt/sources.list.d/docker.list > /dev/null\n",
        "sudo apt-get update\n",
        "sudo apt-get install -y docker-ce-cli\n",
        "\n",
        "#################################################\n",
        "# setup Llama3.1 NIM\n",
        "export NGC_API_KEY= # paste your NGC API KEY here\n",
        "#################################################\n",
        "\n",
        "# Log in to NGC\n",
        "echo \"${NGC_API_KEY}\" | docker login nvcr.io -u '$oauthtoken' --password-stdin\n",
        "\n",
        "# Set path to your LoRA model store\n",
        "export LOCAL_PEFT_DIRECTORY=\"$(pwd)/loras\"\n",
        "mkdir -p $LOCAL_PEFT_DIRECTORY\n",
        "pushd $LOCAL_PEFT_DIRECTORY\n",
        "popd\n",
        "\n",
        "chmod -R 777 $LOCAL_PEFT_DIRECTORY\n",
        "\n",
        "# Set up NIM cache directory\n",
        "mkdir -p $HOME/.nim-cache\n",
        "\n",
        "export NIM_PEFT_SOURCE=/workspace/loras # Path to LoRA models internal to the container\n",
        "export CONTAINER_NAME=meta-llama3_1-8b-instruct\n",
        "export NIM_CACHE_PATH=$HOME/.nim-cache\n",
        "export NIM_PEFT_REFRESH_INTERVAL=60\n",
        "\n",
        "docker run -d --name=$CONTAINER_NAME \\\n",
        "    --network=container:verb-workspace \\\n",
        "    --runtime=nvidia \\\n",
        "    --gpus all \\\n",
        "    --shm-size=16GB \\\n",
        "    -e NGC_API_KEY \\\n",
        "    -e NIM_PEFT_SOURCE \\\n",
        "    -e NIM_PEFT_REFRESH_INTERVAL \\\n",
        "    -v $HOME/.nim-cache:/home/user/.nim-cache \\\n",
        "    -v /home/ubuntu/workspace:/workspace \\\n",
        "    -w /workspace \\\n",
        "    nvcr.io/nim/meta/llama-3.1-8b-instruct:1.1.0\n",
        "\n",
        "# Check if NIM is up\n",
        "echo \"Checking if NIM is up...\"\n",
        "while true; do\n",
        "    if curl -s http://localhost:8000 > /dev/null; then\n",
        "        echo \"NIM has been started successfully!\"\n",
        "        break\n",
        "    else\n",
        "        echo \"NIM is not up yet. Checking again in 10 seconds...\"\n",
        "        sleep 10\n",
        "    fi\n",
        "done"
      ]
    },
    {
      "cell_type": "code",
      "source": [
        "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"
      ],
      "metadata": {
        "id": "V4-p-0jQI7Od"
      },
      "execution_count": null,
      "outputs": []
    }
  ]
}