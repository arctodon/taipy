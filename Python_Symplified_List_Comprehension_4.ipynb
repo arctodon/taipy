{
  "nbformat": 4,
  "nbformat_minor": 0,
  "metadata": {
    "colab": {
      "provenance": [],
      "authorship_tag": "ABX9TyMQUZDgCAH8lPXZJYYjIqrA",
      "include_colab_link": true
    },
    "kernelspec": {
      "name": "python3",
      "display_name": "Python 3"
    },
    "language_info": {
      "name": "python"
    }
  },
  "cells": [
    {
      "cell_type": "markdown",
      "metadata": {
        "id": "view-in-github",
        "colab_type": "text"
      },
      "source": [
        "<a href=\"https://colab.research.google.com/github/arctodon/taipy/blob/bump-version-release/Python_Symplified_List_Comprehension_4.ipynb\" target=\"_parent\"><img src=\"https://colab.research.google.com/assets/colab-badge.svg\" alt=\"Open In Colab\"/></a>"
      ]
    },
    {
      "cell_type": "markdown",
      "source": [
        "Draw a Forest of Random Tree Objects with Python OpenCV -\n",
        "\n",
        "Classes and OOP Practice for Beginners"
      ],
      "metadata": {
        "id": "CXuauotB0zdN"
      }
    },
    {
      "cell_type": "code",
      "execution_count": null,
      "metadata": {
        "id": "5Xz9LCNh0f4K"
      },
      "outputs": [],
      "source": []
    },
    {
      "cell_type": "markdown",
      "source": [
        "# **LESSON: LISTS**"
      ],
      "metadata": {
        "id": "bzdEtARIz99r"
      }
    },
    {
      "cell_type": "code",
      "source": [
        "names = [\"mariya\", \"BATMAN\", \"spongebob\"]\n",
        "new_names = []\n",
        "# FOR LOOP\n",
        "for n in names:\n",
        "\n",
        "# IF STATEMENT\n",
        "  if n.islower():\n",
        "    n = n.capitalize()\n",
        "# ELSE STATEMENT\n",
        "  else:\n",
        "    n = \"Relax \" + n.capitalize()\n",
        "# APPENDING OF MODIFIED CONTENT INTO A NEW LIST\n",
        "  new_names.append(n)\n",
        "\n",
        "names = new_names\n",
        "print(names)\n"
      ],
      "metadata": {
        "colab": {
          "base_uri": "https://localhost:8080/"
        },
        "id": "koEK9Ahg0C_a",
        "outputId": "5695f319-d01a-46fd-d642-6c37d66b76e7"
      },
      "execution_count": null,
      "outputs": [
        {
          "output_type": "stream",
          "name": "stdout",
          "text": [
            "['Mariya', 'Relax Batman', 'Spongebob']\n"
          ]
        }
      ]
    },
    {
      "cell_type": "markdown",
      "source": [
        "# All of the above narrowed in a single line of code with lists"
      ],
      "metadata": {
        "id": "7fUjDTw60wY4"
      }
    },
    {
      "cell_type": "code",
      "source": [
        "names = [\"mariya\", \"BATMAN\", \"spongebob\"]\n",
        "[   # ACTION        # CONDITION\n",
        "    n.capitalize() if n.islower()\n",
        "    else \"Relax \" + n.capitalize()\n",
        "    # FOR LOOP\n",
        "    for n in names\n",
        "]\n",
        "\n",
        "# Note; Not Using APPEND METHOD"
      ],
      "metadata": {
        "colab": {
          "base_uri": "https://localhost:8080/"
        },
        "id": "q406HwRh02z0",
        "outputId": "d260635a-1792-4652-81cf-0b35a61c12cb"
      },
      "execution_count": null,
      "outputs": [
        {
          "output_type": "execute_result",
          "data": {
            "text/plain": [
              "['Mariya', 'Relax Batman', 'Spongebob']"
            ]
          },
          "metadata": {},
          "execution_count": 5
        }
      ]
    },
    {
      "cell_type": "markdown",
      "source": [
        "# List Benefits: Faster FOR LOOPS, Simplified CONDITIONAL STATEMENTS, STRING Manipulation"
      ],
      "metadata": {
        "id": "9YLX8lD13YPw"
      }
    },
    {
      "cell_type": "code",
      "source": [
        "my_string = \"hi442nm233ag2\"\n",
        "\n",
        "new_string = \"\".join(\n",
        "    [ \"d\" if i==\"4\"\n",
        "    else \"e\" if i==\"2\"\n",
        "    else \"s\" if i==\"3\"\n",
        "    else i\n",
        "    for i in my_string]\n",
        ")\n",
        "\n",
        "print(new_string)\n"
      ],
      "metadata": {
        "colab": {
          "base_uri": "https://localhost:8080/"
        },
        "id": "xbyJ-Ec21XJi",
        "outputId": "825d86a9-f7c9-4ba6-a419-5c318374fb93"
      },
      "execution_count": null,
      "outputs": [
        {
          "output_type": "stream",
          "name": "stdout",
          "text": [
            "hiddenmessage\n"
          ]
        }
      ]
    },
    {
      "cell_type": "code",
      "source": [
        "fruits = [\"apple\", \"bananas\", \"strawberries\"]\n",
        "\n",
        "# FOR LOOP\n",
        "\n",
        "for fruit in fruits:\n",
        "  print(fruit)\n",
        "\n",
        "\n",
        "# LIST COMPREHENSION\n",
        "\n",
        "[ print(fruit) for fruit in fruits]\n",
        "\n",
        "\n",
        "# FOR LOOP\n",
        "\n",
        "for i in fruits:\n",
        "  print(i)\n",
        "\n",
        "# LIST COMPREHENSION\n",
        "\n",
        "[ print(i) for i in fruits]"
      ],
      "metadata": {
        "colab": {
          "base_uri": "https://localhost:8080/"
        },
        "id": "qe8JxOG03Qkh",
        "outputId": "4b6fc277-7353-4920-d8b8-990bd97ca73f"
      },
      "execution_count": null,
      "outputs": [
        {
          "output_type": "stream",
          "name": "stdout",
          "text": [
            "apple\n",
            "bananas\n",
            "strawberries\n",
            "apple\n",
            "bananas\n",
            "strawberries\n",
            "apple\n",
            "bananas\n",
            "strawberries\n",
            "apple\n",
            "bananas\n",
            "strawberries\n"
          ]
        },
        {
          "output_type": "execute_result",
          "data": {
            "text/plain": [
              "[None, None, None]"
            ]
          },
          "metadata": {},
          "execution_count": 9
        }
      ]
    },
    {
      "cell_type": "code",
      "source": [
        "fruits = [\"apples\", \"bananas\", \"strawberries\"]\n",
        "new_fruits = []\n",
        "\n",
        "for fruit in fruits:\n",
        "\n",
        "  #print(fruit)\n",
        "\n",
        "## \"UPPER\" METHOD CONVERTS STRING INTO CAPITAL LETTERS\n",
        "\n",
        "  fruit = fruit.upper()\n",
        "  new_fruits.append(fruit)\n",
        "\n",
        "fruit = new_fruits\n",
        "print(fruit)\n"
      ],
      "metadata": {
        "colab": {
          "base_uri": "https://localhost:8080/"
        },
        "id": "DuLdKMPo4AAP",
        "outputId": "f91f33ff-7e6c-4eb5-e9af-27ee5a3c8ca5"
      },
      "execution_count": null,
      "outputs": [
        {
          "output_type": "stream",
          "name": "stdout",
          "text": [
            "['APPLES', 'BANANAS', 'STRAWBERRIES']\n"
          ]
        }
      ]
    },
    {
      "cell_type": "code",
      "source": [
        "fruits = [\"apples\", \"bananas\", \"strawberries\"]\n",
        "fruits = [fruit.upper() for fruit in fruits]\n",
        "\n",
        "# List Comprehension Automatically Create a New List Instead of Manually Entering All of the Infomration\n",
        "\n",
        "# Append Methods are notorious for being time consuming so List Comprehension is always faster\n",
        "\n",
        "\n",
        "print(fruits)"
      ],
      "metadata": {
        "colab": {
          "base_uri": "https://localhost:8080/"
        },
        "id": "kL1M64cF51ov",
        "outputId": "2fffde63-48e3-47a7-e2a9-eaa0ab61f313"
      },
      "execution_count": null,
      "outputs": [
        {
          "output_type": "stream",
          "name": "stdout",
          "text": [
            "['APPLES', 'BANANAS', 'STRAWBERRIES']\n"
          ]
        }
      ]
    },
    {
      "cell_type": "markdown",
      "source": [
        "BOOLEAN VALUES: 1 or 0; True or False; On or Off; Being or Nothingness"
      ],
      "metadata": {
        "id": "frlEwuf1_Zx2"
      }
    },
    {
      "cell_type": "code",
      "source": [
        "\n",
        "\n",
        "bits = [False, True, False, False, True, False, False]\n",
        "new_bits = []\n",
        "\n",
        "for b in bits:\n",
        "  if b == True:\n",
        "    new_bits.append(1)\n",
        "  else:\n",
        "    new_bits.append(0)\n",
        "\n",
        "super_bits = [1 if b == True else 0 for b in bits]\n",
        "\n",
        "print(bits)\n",
        "print(new_bits)\n",
        "print(super_bits)\n",
        "\n"
      ],
      "metadata": {
        "id": "eOAzoTRm7ySg",
        "colab": {
          "base_uri": "https://localhost:8080/"
        },
        "outputId": "0bcba6c7-362f-4a26-e165-06540fe1cae5"
      },
      "execution_count": 23,
      "outputs": [
        {
          "output_type": "stream",
          "name": "stdout",
          "text": [
            "[False, True, False, False, True, False, False]\n",
            "[0, 1, 0, 0, 1, 0, 0]\n"
          ]
        }
      ]
    },
    {
      "cell_type": "code",
      "source": [],
      "metadata": {
        "id": "nM9_4h2PACFC"
      },
      "execution_count": null,
      "outputs": []
    }
  ]
}