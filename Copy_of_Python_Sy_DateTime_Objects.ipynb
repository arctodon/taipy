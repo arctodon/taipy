{
  "nbformat": 4,
  "nbformat_minor": 0,
  "metadata": {
    "colab": {
      "provenance": [],
      "authorship_tag": "ABX9TyN41MUfZOg/zek+D3s+yAJ5",
      "include_colab_link": true
    },
    "kernelspec": {
      "name": "python3",
      "display_name": "Python 3"
    },
    "language_info": {
      "name": "python"
    }
  },
  "cells": [
    {
      "cell_type": "markdown",
      "metadata": {
        "id": "view-in-github",
        "colab_type": "text"
      },
      "source": [
        "<a href=\"https://colab.research.google.com/github/arctodon/taipy/blob/bump-version-release/Copy_of_Python_Sy_DateTime_Objects.ipynb\" target=\"_parent\"><img src=\"https://colab.research.google.com/assets/colab-badge.svg\" alt=\"Open In Colab\"/></a>"
      ]
    },
    {
      "cell_type": "markdown",
      "source": [
        "#****Lesson:**** RECURSION // In computer science recursion happens when a function is called within itself;\n",
        "\n",
        "ie; Matryoshka Doll: End of Recusion (final doll) is called the BASE CASE\n",
        "\n",
        "\n"
      ],
      "metadata": {
        "id": "_aUhJIu4v3MZ"
      }
    },
    {
      "cell_type": "code",
      "execution_count": null,
      "metadata": {
        "id": "kt7lQTSNji8k",
        "colab": {
          "base_uri": "https://localhost:8080/"
        },
        "outputId": "2a7b8ed2-6335-487c-acef-09aa8d3230aa"
      },
      "outputs": [
        {
          "output_type": "execute_result",
          "data": {
            "text/plain": [
              "93326215443944152681699238856266700490715968264381621468592963895217599993229915608941463976156518286253697920827223758251185210916864000000000000000000000000"
            ]
          },
          "metadata": {},
          "execution_count": 3
        }
      ],
      "source": [
        "def Recusion(i):\n",
        "  if i == 1:\n",
        "    return 1\n",
        "  else:\n",
        "    return i * Recusion(i-1)\n",
        "\n",
        "\n",
        "# Fuction Call\n",
        "Recusion(100)"
      ]
    },
    {
      "cell_type": "markdown",
      "source": [
        "## **Lesson:**\n",
        "###Date and Time Objects"
      ],
      "metadata": {
        "id": "23JfWk5D34bd"
      }
    },
    {
      "cell_type": "code",
      "source": [
        "from datetime import date, datetime, time\n",
        "\n",
        "today = date.today()\n",
        "print(\"Today's date:\", today)\n",
        "print(\"day:\", today.day)\n",
        "print(\"month:\", today.month)\n",
        "print(\"year:\", today.year)\n",
        "print(today.strftime(\"%A, %a %dth %D %DTH of %B %b %Y %y\"))\n",
        "\n",
        "next_year = today.replace(year = today.year + 1)\n",
        "print(next_year)\n",
        "\n",
        "difference = abs(next_year - today)\n",
        "print(\"only {} days until next year\" .format(difference.days))\n",
        "\n",
        "\n",
        "# All strftime format codes are case sensitive; ie; %A vs %a\n",
        "\n",
        "NikolaTesla = date(1856, 7, 10)\n",
        "print(NikolaTesla.strftime(\"%A, %dth of %B %Y\"))\n",
        "NikolaTesla = date.fromisoformat(\"1856-07-10\")\n",
        "print(\"Nikola Tesla was born on:\", NikolaTesla)\n",
        "print(NikolaTesla.weekday())\n",
        "\n",
        "# DateTime Class\n",
        "\n",
        "now = datetime.now()\n",
        "print(\"right now it is:\", now)\n",
        "print(\"It's the {}th minute of the {}nd hour, of the {}st day of the {}nd month\".format(\n",
        "    now.minute,\n",
        "    now.hour,\n",
        "    now.day,\n",
        "    now.month\n",
        "))\n",
        "\n",
        "\n",
        "chernobyl = datetime.fromisoformat(\"1986-04-26 01:23:40:000+04:00\")\n",
        "print(\"The nuclear disaster in Chernobyl occured on:\", chernobyl)\n",
        "print(\"MSD is actually:\", chernobyl.tzinfo)\n",
        "\n",
        "print(chernobyl.strftime(\"The Chernobyl disaster occured on %A %B %dth, %Y at %X MSD(%Z)\"))\n",
        "\n",
        "# now with time code\n",
        "\n",
        "my_time = time(15, 33, 8)\n",
        "my_time = time.fromisoformat(\"15:33:08 -07:00\")\n",
        "print(my_time)\n",
        "print(my_time.strftime(\"%I:%M %p\"))\n",
        "\n",
        "# strftime is am/pm time\n",
        "\n",
        "my_date = date(2024, 11, 23)\n",
        "my_bday = datetime.combine(my_date, my_time)\n",
        "print(my_bday)\n"
      ],
      "metadata": {
        "id": "MuX-Nztkw7_T",
        "colab": {
          "base_uri": "https://localhost:8080/"
        },
        "outputId": "7b87e096-cb8f-4e11-e52d-0fcbeba94cbe"
      },
      "execution_count": null,
      "outputs": [
        {
          "output_type": "stream",
          "name": "stdout",
          "text": [
            "Today's date: 2024-09-02\n",
            "day: 2\n",
            "month: 9\n",
            "year: 2024\n",
            "Monday, Mon 02th 09/02/24 09/02/24TH of September Sep 2024 24\n",
            "2025-09-02\n",
            "only 365 days until next year\n",
            "Thursday, 10th of July 1856\n",
            "Nikola Tesla was born on: 1856-07-10\n",
            "3\n",
            "right now it is: 2024-09-02 16:43:06.570717\n",
            "It's the 43th minute of the 16nd hour, of the 2st day of the 9nd month\n",
            "The nuclear disaster in Chernobyl occured on: 1986-04-26 01:23:40+04:00\n",
            "MSD is actually: UTC+04:00\n",
            "The Chernobyl disaster occured on Saturday April 26th, 1986 at 01:23:40 MSD(UTC+04:00)\n",
            "15:33:08-07:00\n",
            "03:33 PM\n",
            "2024-11-23 15:33:08-07:00\n"
          ]
        }
      ]
    },
    {
      "cell_type": "code",
      "source": [
        "\n"
      ],
      "metadata": {
        "id": "D2qRZT-80yL8"
      },
      "execution_count": null,
      "outputs": []
    }
  ]
}